{
 "cells": [
  {
   "cell_type": "code",
   "execution_count": 1,
   "metadata": {},
   "outputs": [],
   "source": [
    "import pandas as pd\n",
    "import numpy as np\n",
    "import matplotlib.pyplot as plt\n",
    "import seaborn as sns"
   ]
  },
  {
   "cell_type": "code",
   "execution_count": null,
   "metadata": {},
   "outputs": [],
   "source": []
  },
  {
   "cell_type": "code",
   "execution_count": null,
   "metadata": {},
   "outputs": [],
   "source": []
  },
  {
   "cell_type": "code",
   "execution_count": null,
   "metadata": {},
   "outputs": [],
   "source": []
  },
  {
   "cell_type": "code",
   "execution_count": null,
   "metadata": {},
   "outputs": [],
   "source": []
  },
  {
   "cell_type": "code",
   "execution_count": 11,
   "metadata": {},
   "outputs": [],
   "source": [
    "ds= pd.read_csv('alunos.csv', delimiter=',',encoding = \"ISO-8859-1\")"
   ]
  },
  {
   "cell_type": "code",
   "execution_count": 40,
   "metadata": {},
   "outputs": [
    {
     "data": {
      "text/plain": [
       "array(['ADMINISTRA\\x80ÇO', 'ADMINISTRA\\x80ÇO - EAD', 'AGRONOMIA',\n",
       "       'ARQUITETURA E URBANISMO', 'ARQUIVOLOGIA', 'ARTES VISUAIS',\n",
       "       'ARTES VISUAIS - ENSINO A DIST¶NCIA - EAD', 'BIBLIOTECONOMIA',\n",
       "       'BIOMEDICINA', 'BIOTECNOLOGIA', 'CIÒNCIA DA COMPUTA\\x80ÇO',\n",
       "       'CIÒNCIAS ATUARIAIS', 'CIÒNCIAS BIOLàGICAS',\n",
       "       'CIÒNCIAS BIOLàGICAS - CECLIMAR',\n",
       "       'CIÒNCIAS BIOLàGICAS - ENSINO A DISTANCIA - EAD',\n",
       "       'CIÒNCIAS CONTµBEIS', 'CIÒNCIAS ECONâMICAS',\n",
       "       'CIÒNCIAS JURÖDICAS E SOCIAIS', 'CIÒNCIAS SOCIAIS',\n",
       "       'COMUNICA\\x80ÇO SOCIAL', 'DAN\\x80A', 'DESIGN', 'DESIGN DE PRODUTO',\n",
       "       'DESIGN VISUAL', 'EDUCA\\x80ÇO FÖSICA', 'ENFERMAGEM',\n",
       "       'ENGENHARIA AMBIENTAL', 'ENGENHARIA CARTOGRµFICA',\n",
       "       'ENGENHARIA CIVIL', 'ENGENHARIA DE ALIMENTOS',\n",
       "       'ENGENHARIA DE COMPUTA\\x80ÇO',\n",
       "       'ENGENHARIA DE CONTROLE E AUTOMA\\x80ÇO', 'ENGENHARIA DE ENERGIA',\n",
       "       'ENGENHARIA DE MATERIAIS', 'ENGENHARIA DE MINAS',\n",
       "       'ENGENHARIA DE PRODU\\x80ÇO', 'ENGENHARIA EL\\x90TRICA',\n",
       "       'ENGENHARIA FÖSICA', 'ENGENHARIA MEC¶NICA',\n",
       "       'ENGENHARIA METALéRGICA', 'ENGENHARIA QUÖMICA', 'ESTATÖSTICA',\n",
       "       'FARMµCIA', 'FILOSOFIA', 'FÖSICA', 'FISIOTERAPIA', 'FONOAUDIOLOGIA',\n",
       "       'GEOGRAFIA', 'GEOLOGIA', 'HISTàRIA', 'HISTàRIA DA ARTE',\n",
       "       'JORNALISMO', 'LETRAS',\n",
       "       'LETRAS - INGLÒS - ENSINO A DIST¶NCIA - EAD', 'MATEMµTICA',\n",
       "       'MATEMµTICA - ENSINO A DIST¶NCIA - EAD', 'MEDICINA',\n",
       "       'MEDICINA VETERINµRIA', 'MUSEOLOGIA', 'MéSICA',\n",
       "       'MéSICA - ENSINO A DIST¶NCIA - EAD', 'NUTRI\\x80ÇO', 'ODONTOLOGIA',\n",
       "       'PEDAGOGIA', 'PEDAGOGIA - EAD', 'POLÖTICAS PéBLICAS', 'PSICOLOGIA',\n",
       "       'QUÖMICA', 'RELA\\x80åES INTERNACIONAIS', 'RELA\\x80åES PéBLICAS',\n",
       "       'SAéDE COLETIVA', 'SERVI\\x80O SOCIAL', 'TEATRO',\n",
       "       'TECNOLOGIA EM DESENVOLVIMENTO RURAL - EAD', 'ZOOTECNIA',\n",
       "       'ENGENHARIA HÖDRICA', 'BACHARELADO EM DESENVOLVIMENTO RURAL - EAD',\n",
       "       'EDUCA\\x80ÇO DO CAMPO - LITORAL',\n",
       "       'EDUCA\\x80ÇO DO CAMPO - PORTO ALEGRE',\n",
       "       'INTERDISCIPLINAR EM CIÒNCIA E TECNOLOGIA - LITORAL NORTE',\n",
       "       'ADMINISTRA\\x80ÇO PéBLICA E SOCIAL'], dtype=object)"
      ]
     },
     "execution_count": 40,
     "metadata": {},
     "output_type": "execute_result"
    }
   ],
   "source": [
    "ds['NomeCurso'].unique()"
   ]
  },
  {
   "cell_type": "code",
   "execution_count": null,
   "metadata": {},
   "outputs": [],
   "source": []
  },
  {
   "cell_type": "code",
   "execution_count": 12,
   "metadata": {},
   "outputs": [
    {
     "data": {
      "text/plain": [
       "1106"
      ]
     },
     "execution_count": 12,
     "metadata": {},
     "output_type": "execute_result"
    }
   ],
   "source": [
    "len(ds)\n"
   ]
  },
  {
   "cell_type": "code",
   "execution_count": 13,
   "metadata": {},
   "outputs": [
    {
     "data": {
      "text/html": [
       "<div>\n",
       "<style scoped>\n",
       "    .dataframe tbody tr th:only-of-type {\n",
       "        vertical-align: middle;\n",
       "    }\n",
       "\n",
       "    .dataframe tbody tr th {\n",
       "        vertical-align: top;\n",
       "    }\n",
       "\n",
       "    .dataframe thead th {\n",
       "        text-align: right;\n",
       "    }\n",
       "</style>\n",
       "<table border=\"1\" class=\"dataframe\">\n",
       "  <thead>\n",
       "    <tr style=\"text-align: right;\">\n",
       "      <th></th>\n",
       "      <th>CodCurso</th>\n",
       "      <th>NomeCurso</th>\n",
       "      <th>Ano</th>\n",
       "      <th>Periodo</th>\n",
       "      <th>Vinculados</th>\n",
       "      <th>Matriculados</th>\n",
       "      <th>Ingressantes</th>\n",
       "      <th>Diplomados</th>\n",
       "      <th>Evadidos</th>\n",
       "    </tr>\n",
       "  </thead>\n",
       "  <tbody>\n",
       "    <tr>\n",
       "      <th>0</th>\n",
       "      <td>298</td>\n",
       "      <td>ADMINISTRAÇO</td>\n",
       "      <td>2010</td>\n",
       "      <td>1</td>\n",
       "      <td>1501</td>\n",
       "      <td>1337</td>\n",
       "      <td>166</td>\n",
       "      <td>91</td>\n",
       "      <td>24</td>\n",
       "    </tr>\n",
       "    <tr>\n",
       "      <th>1</th>\n",
       "      <td>583</td>\n",
       "      <td>ADMINISTRAÇO - EAD</td>\n",
       "      <td>2010</td>\n",
       "      <td>1</td>\n",
       "      <td>351</td>\n",
       "      <td>345</td>\n",
       "      <td>0</td>\n",
       "      <td>0</td>\n",
       "      <td>6</td>\n",
       "    </tr>\n",
       "    <tr>\n",
       "      <th>2</th>\n",
       "      <td>299</td>\n",
       "      <td>AGRONOMIA</td>\n",
       "      <td>2010</td>\n",
       "      <td>1</td>\n",
       "      <td>495</td>\n",
       "      <td>441</td>\n",
       "      <td>47</td>\n",
       "      <td>31</td>\n",
       "      <td>20</td>\n",
       "    </tr>\n",
       "    <tr>\n",
       "      <th>3</th>\n",
       "      <td>300</td>\n",
       "      <td>ARQUITETURA E URBANISMO</td>\n",
       "      <td>2010</td>\n",
       "      <td>1</td>\n",
       "      <td>625</td>\n",
       "      <td>557</td>\n",
       "      <td>53</td>\n",
       "      <td>41</td>\n",
       "      <td>12</td>\n",
       "    </tr>\n",
       "    <tr>\n",
       "      <th>4</th>\n",
       "      <td>301</td>\n",
       "      <td>ARQUIVOLOGIA</td>\n",
       "      <td>2010</td>\n",
       "      <td>1</td>\n",
       "      <td>157</td>\n",
       "      <td>134</td>\n",
       "      <td>30</td>\n",
       "      <td>4</td>\n",
       "      <td>6</td>\n",
       "    </tr>\n",
       "  </tbody>\n",
       "</table>\n",
       "</div>"
      ],
      "text/plain": [
       "   CodCurso                NomeCurso   Ano  Periodo  Vinculados  Matriculados  \\\n",
       "0       298            ADMINISTRAÇO  2010        1        1501          1337   \n",
       "1       583      ADMINISTRAÇO - EAD  2010        1         351           345   \n",
       "2       299                AGRONOMIA  2010        1         495           441   \n",
       "3       300  ARQUITETURA E URBANISMO  2010        1         625           557   \n",
       "4       301             ARQUIVOLOGIA  2010        1         157           134   \n",
       "\n",
       "   Ingressantes  Diplomados  Evadidos  \n",
       "0           166          91        24  \n",
       "1             0           0         6  \n",
       "2            47          31        20  \n",
       "3            53          41        12  \n",
       "4            30           4         6  "
      ]
     },
     "execution_count": 13,
     "metadata": {},
     "output_type": "execute_result"
    }
   ],
   "source": [
    "ds.head()"
   ]
  },
  {
   "cell_type": "code",
   "execution_count": 15,
   "metadata": {},
   "outputs": [
    {
     "data": {
      "text/plain": [
       "2015    150\n",
       "2014    148\n",
       "2010    148\n",
       "2016    147\n",
       "2012    147\n",
       "2011    147\n",
       "2013    146\n",
       "2017     73\n",
       "Name: Ano, dtype: int64"
      ]
     },
     "execution_count": 15,
     "metadata": {},
     "output_type": "execute_result"
    }
   ],
   "source": [
    "ds['Ano'].value_counts()"
   ]
  },
  {
   "cell_type": "code",
   "execution_count": 17,
   "metadata": {},
   "outputs": [],
   "source": [
    "amostra2016 =ds[ds['Ano'] == 2016]"
   ]
  },
  {
   "cell_type": "code",
   "execution_count": 19,
   "metadata": {},
   "outputs": [
    {
     "data": {
      "text/plain": [
       "147"
      ]
     },
     "execution_count": 19,
     "metadata": {},
     "output_type": "execute_result"
    }
   ],
   "source": [
    "len(amostra2016)"
   ]
  },
  {
   "cell_type": "code",
   "execution_count": 21,
   "metadata": {},
   "outputs": [
    {
     "data": {
      "text/html": [
       "<div>\n",
       "<style scoped>\n",
       "    .dataframe tbody tr th:only-of-type {\n",
       "        vertical-align: middle;\n",
       "    }\n",
       "\n",
       "    .dataframe tbody tr th {\n",
       "        vertical-align: top;\n",
       "    }\n",
       "\n",
       "    .dataframe thead th {\n",
       "        text-align: right;\n",
       "    }\n",
       "</style>\n",
       "<table border=\"1\" class=\"dataframe\">\n",
       "  <thead>\n",
       "    <tr style=\"text-align: right;\">\n",
       "      <th></th>\n",
       "      <th>CodCurso</th>\n",
       "      <th>NomeCurso</th>\n",
       "      <th>Ano</th>\n",
       "      <th>Periodo</th>\n",
       "      <th>Vinculados</th>\n",
       "      <th>Matriculados</th>\n",
       "      <th>Ingressantes</th>\n",
       "      <th>Diplomados</th>\n",
       "      <th>Evadidos</th>\n",
       "    </tr>\n",
       "  </thead>\n",
       "  <tbody>\n",
       "    <tr>\n",
       "      <th>886</th>\n",
       "      <td>298</td>\n",
       "      <td>ADMINISTRAÇO</td>\n",
       "      <td>2016</td>\n",
       "      <td>1</td>\n",
       "      <td>1833</td>\n",
       "      <td>1585</td>\n",
       "      <td>143</td>\n",
       "      <td>60</td>\n",
       "      <td>70</td>\n",
       "    </tr>\n",
       "    <tr>\n",
       "      <th>887</th>\n",
       "      <td>1350</td>\n",
       "      <td>ADMINISTRAÇO PéBLICA E SOCIAL</td>\n",
       "      <td>2016</td>\n",
       "      <td>1</td>\n",
       "      <td>101</td>\n",
       "      <td>88</td>\n",
       "      <td>38</td>\n",
       "      <td>0</td>\n",
       "      <td>6</td>\n",
       "    </tr>\n",
       "    <tr>\n",
       "      <th>888</th>\n",
       "      <td>299</td>\n",
       "      <td>AGRONOMIA</td>\n",
       "      <td>2016</td>\n",
       "      <td>1</td>\n",
       "      <td>532</td>\n",
       "      <td>479</td>\n",
       "      <td>50</td>\n",
       "      <td>23</td>\n",
       "      <td>18</td>\n",
       "    </tr>\n",
       "    <tr>\n",
       "      <th>889</th>\n",
       "      <td>300</td>\n",
       "      <td>ARQUITETURA E URBANISMO</td>\n",
       "      <td>2016</td>\n",
       "      <td>1</td>\n",
       "      <td>666</td>\n",
       "      <td>589</td>\n",
       "      <td>56</td>\n",
       "      <td>28</td>\n",
       "      <td>23</td>\n",
       "    </tr>\n",
       "    <tr>\n",
       "      <th>890</th>\n",
       "      <td>301</td>\n",
       "      <td>ARQUIVOLOGIA</td>\n",
       "      <td>2016</td>\n",
       "      <td>1</td>\n",
       "      <td>192</td>\n",
       "      <td>163</td>\n",
       "      <td>22</td>\n",
       "      <td>8</td>\n",
       "      <td>12</td>\n",
       "    </tr>\n",
       "  </tbody>\n",
       "</table>\n",
       "</div>"
      ],
      "text/plain": [
       "     CodCurso                       NomeCurso   Ano  Periodo  Vinculados  \\\n",
       "886       298                   ADMINISTRAÇO  2016        1        1833   \n",
       "887      1350  ADMINISTRAÇO PéBLICA E SOCIAL  2016        1         101   \n",
       "888       299                       AGRONOMIA  2016        1         532   \n",
       "889       300         ARQUITETURA E URBANISMO  2016        1         666   \n",
       "890       301                    ARQUIVOLOGIA  2016        1         192   \n",
       "\n",
       "     Matriculados  Ingressantes  Diplomados  Evadidos  \n",
       "886          1585           143          60        70  \n",
       "887            88            38           0         6  \n",
       "888           479            50          23        18  \n",
       "889           589            56          28        23  \n",
       "890           163            22           8        12  "
      ]
     },
     "execution_count": 21,
     "metadata": {},
     "output_type": "execute_result"
    }
   ],
   "source": [
    "amostra2016.head()"
   ]
  },
  {
   "cell_type": "code",
   "execution_count": 26,
   "metadata": {},
   "outputs": [
    {
     "data": {
      "text/html": [
       "<div>\n",
       "<style scoped>\n",
       "    .dataframe tbody tr th:only-of-type {\n",
       "        vertical-align: middle;\n",
       "    }\n",
       "\n",
       "    .dataframe tbody tr th {\n",
       "        vertical-align: top;\n",
       "    }\n",
       "\n",
       "    .dataframe thead th {\n",
       "        text-align: right;\n",
       "    }\n",
       "</style>\n",
       "<table border=\"1\" class=\"dataframe\">\n",
       "  <thead>\n",
       "    <tr style=\"text-align: right;\">\n",
       "      <th></th>\n",
       "      <th>CodCurso</th>\n",
       "      <th>NomeCurso</th>\n",
       "      <th>Ano</th>\n",
       "      <th>Periodo</th>\n",
       "      <th>Vinculados</th>\n",
       "      <th>Matriculados</th>\n",
       "      <th>Ingressantes</th>\n",
       "      <th>Diplomados</th>\n",
       "      <th>Evadidos</th>\n",
       "    </tr>\n",
       "  </thead>\n",
       "  <tbody>\n",
       "    <tr>\n",
       "      <th>886</th>\n",
       "      <td>298</td>\n",
       "      <td>ADMINISTRAÇO</td>\n",
       "      <td>2016</td>\n",
       "      <td>1</td>\n",
       "      <td>1833</td>\n",
       "      <td>1585</td>\n",
       "      <td>143</td>\n",
       "      <td>60</td>\n",
       "      <td>70</td>\n",
       "    </tr>\n",
       "    <tr>\n",
       "      <th>960</th>\n",
       "      <td>298</td>\n",
       "      <td>ADMINISTRAÇO</td>\n",
       "      <td>2016</td>\n",
       "      <td>2</td>\n",
       "      <td>1849</td>\n",
       "      <td>1628</td>\n",
       "      <td>135</td>\n",
       "      <td>104</td>\n",
       "      <td>85</td>\n",
       "    </tr>\n",
       "  </tbody>\n",
       "</table>\n",
       "</div>"
      ],
      "text/plain": [
       "     CodCurso      NomeCurso   Ano  Periodo  Vinculados  Matriculados  \\\n",
       "886       298  ADMINISTRAÇO  2016        1        1833          1585   \n",
       "960       298  ADMINISTRAÇO  2016        2        1849          1628   \n",
       "\n",
       "     Ingressantes  Diplomados  Evadidos  \n",
       "886           143          60        70  \n",
       "960           135         104        85  "
      ]
     },
     "execution_count": 26,
     "metadata": {},
     "output_type": "execute_result"
    }
   ],
   "source": [
    "amostra2016[amostra2016['NomeCurso']=='ADMINISTRAÇO']"
   ]
  },
  {
   "cell_type": "code",
   "execution_count": 38,
   "metadata": {},
   "outputs": [],
   "source": [
    "cursoAnoQtdAlunoMatriculado=ds.groupby(['NomeCurso','Ano'])['Matriculados'].sum()"
   ]
  },
  {
   "cell_type": "code",
   "execution_count": null,
   "metadata": {},
   "outputs": [],
   "source": [
    "\n"
   ]
  },
  {
   "cell_type": "code",
   "execution_count": null,
   "metadata": {},
   "outputs": [],
   "source": []
  },
  {
   "cell_type": "code",
   "execution_count": null,
   "metadata": {},
   "outputs": [],
   "source": []
  },
  {
   "cell_type": "code",
   "execution_count": 48,
   "metadata": {},
   "outputs": [
    {
     "data": {
      "text/plain": [
       "NomeCurso                                  Ano \n",
       "ADMINISTRAÇO                              2010    2681\n",
       "                                           2011    2786\n",
       "                                           2012    2929\n",
       "                                           2013    3069\n",
       "                                           2014    3173\n",
       "                                           2015    3117\n",
       "                                           2016    3213\n",
       "                                           2017    1550\n",
       "ADMINISTRAÇO - EAD                        2010     690\n",
       "                                           2011       0\n",
       "ADMINISTRAÇO PéBLICA E SOCIAL             2015      90\n",
       "                                           2016     198\n",
       "                                           2017     147\n",
       "AGRONOMIA                                  2010     869\n",
       "                                           2011     862\n",
       "                                           2012     852\n",
       "                                           2013     894\n",
       "                                           2014     925\n",
       "                                           2015     922\n",
       "                                           2016     953\n",
       "                                           2017     474\n",
       "ARQUITETURA E URBANISMO                    2010    1120\n",
       "                                           2011    1115\n",
       "                                           2012    1106\n",
       "                                           2013    1115\n",
       "                                           2014    1127\n",
       "                                           2015    1140\n",
       "                                           2016    1200\n",
       "                                           2017     610\n",
       "ARQUIVOLOGIA                               2010     261\n",
       "                                                   ... \n",
       "SAéDE COLETIVA                             2015     428\n",
       "                                           2016     422\n",
       "                                           2017     194\n",
       "SERVIO SOCIAL                             2010      61\n",
       "                                           2011     116\n",
       "                                           2012     160\n",
       "                                           2013     213\n",
       "                                           2014     261\n",
       "                                           2015     283\n",
       "                                           2016     297\n",
       "                                           2017     155\n",
       "TEATRO                                     2010     307\n",
       "                                           2011     318\n",
       "                                           2012     320\n",
       "                                           2013     319\n",
       "                                           2014     340\n",
       "                                           2015     347\n",
       "                                           2016     367\n",
       "                                           2017     198\n",
       "TECNOLOGIA EM DESENVOLVIMENTO RURAL - EAD  2010    1114\n",
       "                                           2011     755\n",
       "                                           2012     334\n",
       "                                           2013     322\n",
       "                                           2014       0\n",
       "ZOOTECNIA                                  2012      66\n",
       "                                           2013     134\n",
       "                                           2014     220\n",
       "                                           2015     265\n",
       "                                           2016     337\n",
       "                                           2017     182\n",
       "Name: Matriculados, Length: 595, dtype: int64"
      ]
     },
     "execution_count": 48,
     "metadata": {},
     "output_type": "execute_result"
    }
   ],
   "source": [
    "cursoAnoQtdAlunoMatriculado\n"
   ]
  },
  {
   "cell_type": "code",
   "execution_count": null,
   "metadata": {},
   "outputs": [],
   "source": []
  },
  {
   "cell_type": "code",
   "execution_count": 49,
   "metadata": {},
   "outputs": [],
   "source": [
    "import matplotlib.pyplot as plt"
   ]
  },
  {
   "cell_type": "code",
   "execution_count": null,
   "metadata": {},
   "outputs": [],
   "source": []
  },
  {
   "cell_type": "code",
   "execution_count": 2,
   "metadata": {},
   "outputs": [
    {
     "name": "stdout",
     "output_type": "stream",
     "text": [
      "[nltk_data] Downloading package punkt to\n",
      "[nltk_data]     C:\\Users\\marco\\AppData\\Roaming\\nltk_data...\n",
      "[nltk_data]   Package punkt is already up-to-date!\n"
     ]
    }
   ],
   "source": [
    "import nltk #biblioteca\n",
    "nltk.download('punkt')\n",
    "from nltk import FreqDist"
   ]
  },
  {
   "cell_type": "code",
   "execution_count": null,
   "metadata": {},
   "outputs": [],
   "source": []
  },
  {
   "cell_type": "code",
   "execution_count": 4,
   "metadata": {},
   "outputs": [
    {
     "data": {
      "text/plain": [
       "'quase sempre perco cerca de 20 min do meu corrido tempo, sem todo o processo de atendimento: explicar o problema, eles verificarem, pedirem pra desligar o moldem, e eu verificar novamente. isso cansa!'"
      ]
     },
     "execution_count": 4,
     "metadata": {},
     "output_type": "execute_result"
    }
   ],
   "source": [
    "texto = 'Quase sempre perco cerca de 20 min do meu corrido tempo, sem todo o processo de atendimento: explicar o problema, eles verificarem, pedirem pra desligar o moldem, e eu verificar novamente. Isso cansa!'\n",
    "texto = texto.lower()\n",
    "texto"
   ]
  },
  {
   "cell_type": "code",
   "execution_count": null,
   "metadata": {},
   "outputs": [],
   "source": []
  },
  {
   "cell_type": "code",
   "execution_count": null,
   "metadata": {},
   "outputs": [],
   "source": []
  },
  {
   "cell_type": "code",
   "execution_count": null,
   "metadata": {},
   "outputs": [],
   "source": []
  },
  {
   "cell_type": "code",
   "execution_count": 5,
   "metadata": {},
   "outputs": [
    {
     "data": {
      "text/plain": [
       "['quase',\n",
       " 'sempre',\n",
       " 'perco',\n",
       " 'cerca',\n",
       " 'de',\n",
       " '20',\n",
       " 'min',\n",
       " 'do',\n",
       " 'meu',\n",
       " 'corrido',\n",
       " 'tempo',\n",
       " ',',\n",
       " 'sem',\n",
       " 'todo',\n",
       " 'o',\n",
       " 'processo',\n",
       " 'de',\n",
       " 'atendimento',\n",
       " ':',\n",
       " 'explicar',\n",
       " 'o',\n",
       " 'problema',\n",
       " ',',\n",
       " 'eles',\n",
       " 'verificarem',\n",
       " ',',\n",
       " 'pedirem',\n",
       " 'pra',\n",
       " 'desligar',\n",
       " 'o',\n",
       " 'moldem',\n",
       " ',',\n",
       " 'e',\n",
       " 'eu',\n",
       " 'verificar',\n",
       " 'novamente',\n",
       " '.',\n",
       " 'isso',\n",
       " 'cansa',\n",
       " '!']"
      ]
     },
     "execution_count": 5,
     "metadata": {},
     "output_type": "execute_result"
    }
   ],
   "source": [
    "p = nltk.word_tokenize(texto)\n",
    "p"
   ]
  },
  {
   "cell_type": "code",
   "execution_count": null,
   "metadata": {},
   "outputs": [],
   "source": []
  },
  {
   "cell_type": "code",
   "execution_count": 6,
   "metadata": {},
   "outputs": [
    {
     "data": {
      "text/plain": [
       "FreqDist({'!': 1,\n",
       "          ',': 4,\n",
       "          '.': 1,\n",
       "          '20': 1,\n",
       "          ':': 1,\n",
       "          'atendimento': 1,\n",
       "          'cansa': 1,\n",
       "          'cerca': 1,\n",
       "          'corrido': 1,\n",
       "          'de': 2,\n",
       "          'desligar': 1,\n",
       "          'do': 1,\n",
       "          'e': 1,\n",
       "          'eles': 1,\n",
       "          'eu': 1,\n",
       "          'explicar': 1,\n",
       "          'isso': 1,\n",
       "          'meu': 1,\n",
       "          'min': 1,\n",
       "          'moldem': 1,\n",
       "          'novamente': 1,\n",
       "          'o': 3,\n",
       "          'pedirem': 1,\n",
       "          'perco': 1,\n",
       "          'pra': 1,\n",
       "          'problema': 1,\n",
       "          'processo': 1,\n",
       "          'quase': 1,\n",
       "          'sem': 1,\n",
       "          'sempre': 1,\n",
       "          'tempo': 1,\n",
       "          'todo': 1,\n",
       "          'verificar': 1,\n",
       "          'verificarem': 1})"
      ]
     },
     "execution_count": 6,
     "metadata": {},
     "output_type": "execute_result"
    }
   ],
   "source": [
    "frequencia = FreqDist(p)\n",
    "frequencia"
   ]
  },
  {
   "cell_type": "code",
   "execution_count": null,
   "metadata": {},
   "outputs": [],
   "source": []
  },
  {
   "cell_type": "code",
   "execution_count": 172,
   "metadata": {},
   "outputs": [
    {
     "name": "stdout",
     "output_type": "stream",
     "text": [
      "<class 'type'>\n"
     ]
    }
   ],
   "source": [
    "print(type(FreqDist))"
   ]
  },
  {
   "cell_type": "code",
   "execution_count": 7,
   "metadata": {},
   "outputs": [
    {
     "data": {
      "text/plain": [
       "dict_keys(['quase', 'sempre', 'perco', 'cerca', 'de', '20', 'min', 'do', 'meu', 'corrido', 'tempo', ',', 'sem', 'todo', 'o', 'processo', 'atendimento', ':', 'explicar', 'problema', 'eles', 'verificarem', 'pedirem', 'pra', 'desligar', 'moldem', 'e', 'eu', 'verificar', 'novamente', '.', 'isso', 'cansa', '!'])"
      ]
     },
     "execution_count": 7,
     "metadata": {},
     "output_type": "execute_result"
    }
   ],
   "source": [
    "palavras = frequencia.keys()\n",
    "palavras"
   ]
  },
  {
   "cell_type": "code",
   "execution_count": null,
   "metadata": {},
   "outputs": [],
   "source": []
  },
  {
   "cell_type": "code",
   "execution_count": 8,
   "metadata": {},
   "outputs": [
    {
     "data": {
      "image/png": "[encoded data removed]",
      "text/plain": [
       "<matplotlib.figure.Figure at 0x24333245278>"
      ]
     },
     "metadata": {},
     "output_type": "display_data"
    }
   ],
   "source": [
    "y_pos = np.arange(len(palavras))\n",
    "contagem = frequencia.values()\n",
    "plt.bar(y_pos, contagem, align='center', alpha=0.5)\n",
    "plt.ylabel('Frequencia')\n",
    "plt.xticks(y_pos, palavras)\n",
    "plt.title('Frequencia das palavras na frase')\n",
    "plt.rcParams['figure.figsize'] = (20,7)\n",
    "plt.show()"
   ]
  },
  {
   "cell_type": "code",
   "execution_count": null,
   "metadata": {},
   "outputs": [],
   "source": []
  },
  {
   "cell_type": "code",
   "execution_count": null,
   "metadata": {},
   "outputs": [],
   "source": []
  },
  {
   "cell_type": "code",
   "execution_count": null,
   "metadata": {},
   "outputs": [],
   "source": []
  },
  {
   "cell_type": "code",
   "execution_count": null,
   "metadata": {},
   "outputs": [],
   "source": []
  },
  {
   "cell_type": "code",
   "execution_count": null,
   "metadata": {},
   "outputs": [],
   "source": []
  },
  {
   "cell_type": "code",
   "execution_count": null,
   "metadata": {},
   "outputs": [],
   "source": []
  },
  {
   "cell_type": "code",
   "execution_count": null,
   "metadata": {},
   "outputs": [],
   "source": []
  },
  {
   "cell_type": "code",
   "execution_count": null,
   "metadata": {},
   "outputs": [],
   "source": []
  },
  {
   "cell_type": "code",
   "execution_count": null,
   "metadata": {},
   "outputs": [],
   "source": []
  },
  {
   "cell_type": "code",
   "execution_count": null,
   "metadata": {},
   "outputs": [],
   "source": []
  },
  {
   "cell_type": "code",
   "execution_count": null,
   "metadata": {},
   "outputs": [],
   "source": []
  },
  {
   "cell_type": "code",
   "execution_count": null,
   "metadata": {},
   "outputs": [],
   "source": []
  },
  {
   "cell_type": "code",
   "execution_count": null,
   "metadata": {},
   "outputs": [],
   "source": []
  },
  {
   "cell_type": "code",
   "execution_count": null,
   "metadata": {},
   "outputs": [],
   "source": []
  },
  {
   "cell_type": "code",
   "execution_count": 161,
   "metadata": {},
   "outputs": [
    {
     "data": {
      "image/png": "[encoded data removed]",
      "text/plain": [
       "<matplotlib.figure.Figure at 0x2715ae0fc88>"
      ]
     },
     "metadata": {},
     "output_type": "display_data"
    }
   ],
   "source": [
    "p = nltk.word_tokenize(texto)\n",
    "frequencia = FreqDist(p)\n",
    "palavras = frequencia.keys()\n",
    "y_pos = np.arange(len(palavras))\n",
    "contagem = frequencia.values()\n",
    "plt.bar(y_pos, contagem, align='center', alpha=0.5)\n",
    "plt.ylabel('Frequencia')\n",
    "plt.xticks(y_pos, palavras)\n",
    "plt.title('Frequencia das palavras na frase')\n",
    "plt.rcParams['figure.figsize'] = (20,7)\n",
    "plt.show()"
   ]
  },
  {
   "cell_type": "code",
   "execution_count": null,
   "metadata": {},
   "outputs": [],
   "source": []
  },
  {
   "cell_type": "code",
   "execution_count": null,
   "metadata": {},
   "outputs": [],
   "source": []
  },
  {
   "cell_type": "code",
   "execution_count": null,
   "metadata": {},
   "outputs": [],
   "source": []
  },
  {
   "cell_type": "code",
   "execution_count": null,
   "metadata": {},
   "outputs": [],
   "source": []
  },
  {
   "cell_type": "code",
   "execution_count": 156,
   "metadata": {},
   "outputs": [],
   "source": [
    "pessoas = ['marco','eraldo','aline','ferando']"
   ]
  },
  {
   "cell_type": "code",
   "execution_count": null,
   "metadata": {},
   "outputs": [],
   "source": []
  },
  {
   "cell_type": "code",
   "execution_count": 151,
   "metadata": {},
   "outputs": [
    {
     "data": {
      "text/plain": [
       "'marco'"
      ]
     },
     "execution_count": 151,
     "metadata": {},
     "output_type": "execute_result"
    }
   ],
   "source": [
    "pessoas[0]"
   ]
  },
  {
   "cell_type": "code",
   "execution_count": 152,
   "metadata": {},
   "outputs": [
    {
     "data": {
      "text/plain": [
       "'eraldo'"
      ]
     },
     "execution_count": 152,
     "metadata": {},
     "output_type": "execute_result"
    }
   ],
   "source": [
    "pessoas[1]"
   ]
  },
  {
   "cell_type": "code",
   "execution_count": 157,
   "metadata": {},
   "outputs": [
    {
     "name": "stdout",
     "output_type": "stream",
     "text": [
      "marco\n",
      "eraldo\n",
      "aline\n",
      "ferando\n"
     ]
    }
   ],
   "source": [
    "for a in pessoas:\n",
    "    print(a)"
   ]
  },
  {
   "cell_type": "code",
   "execution_count": 24,
   "metadata": {},
   "outputs": [],
   "source": [
    "duvida = ['quem','qual','como','porque','?','aonde']\n",
    "negativo =['pessimo','demora','ruim','esperando','denuncia','perco','problema','cansa','defeito','insatisfeito']\n",
    "positivo =['legal','adorei','curti','otimo','agradecer','']\n",
    "contDuvida =0\n",
    "contNegativo =0\n",
    "contPositivo=0"
   ]
  },
  {
   "cell_type": "code",
   "execution_count": null,
   "metadata": {},
   "outputs": [],
   "source": []
  },
  {
   "cell_type": "code",
   "execution_count": null,
   "metadata": {},
   "outputs": [],
   "source": []
  },
  {
   "cell_type": "code",
   "execution_count": null,
   "metadata": {},
   "outputs": [],
   "source": []
  },
  {
   "cell_type": "code",
   "execution_count": null,
   "metadata": {},
   "outputs": [],
   "source": []
  },
  {
   "cell_type": "code",
   "execution_count": null,
   "metadata": {},
   "outputs": [],
   "source": []
  },
  {
   "cell_type": "code",
   "execution_count": null,
   "metadata": {},
   "outputs": [],
   "source": []
  },
  {
   "cell_type": "code",
   "execution_count": 25,
   "metadata": {},
   "outputs": [],
   "source": [
    " for x in p: \n",
    "        for y in duvida:\n",
    "            if x  ==  y:\n",
    "                contDuvida = contDuvida+1\n",
    "            \n",
    "        for y in negativo:\n",
    "            if x  ==  y:\n",
    "                contNegativo = contNegativo+1\n",
    "                    \n",
    "        for y in positivo:\n",
    "            if x  ==  y:\n",
    "                contPositivo = contPositivo+1\n",
    "        "
   ]
  },
  {
   "cell_type": "code",
   "execution_count": null,
   "metadata": {},
   "outputs": [],
   "source": []
  },
  {
   "cell_type": "code",
   "execution_count": null,
   "metadata": {},
   "outputs": [],
   "source": []
  },
  {
   "cell_type": "code",
   "execution_count": null,
   "metadata": {},
   "outputs": [],
   "source": []
  },
  {
   "cell_type": "code",
   "execution_count": null,
   "metadata": {},
   "outputs": [],
   "source": []
  },
  {
   "cell_type": "code",
   "execution_count": 26,
   "metadata": {},
   "outputs": [
    {
     "name": "stdout",
     "output_type": "stream",
     "text": [
      "texto analisado: ja faz uma semana que meu restaurante nao abre por conta fos defeitos do ifood o servidor deles vive com defeito estou totalmente insatisfeito com o serviço\n",
      "palavras de duvida:  0\n",
      "palavras Negativas:  2\n",
      "palavras Positivas:  0\n"
     ]
    }
   ],
   "source": [
    "print(\"texto analisado:\",texto )\n",
    "print('palavras de duvida: ', contDuvida)\n",
    "print('palavras Negativas: ', contNegativo)\n",
    "print('palavras Positivas: ', contPositivo)"
   ]
  },
  {
   "cell_type": "code",
   "execution_count": null,
   "metadata": {},
   "outputs": [],
   "source": []
  },
  {
   "cell_type": "code",
   "execution_count": null,
   "metadata": {},
   "outputs": [],
   "source": []
  },
  {
   "cell_type": "code",
   "execution_count": null,
   "metadata": {},
   "outputs": [],
   "source": []
  },
  {
   "cell_type": "code",
   "execution_count": null,
   "metadata": {},
   "outputs": [],
   "source": []
  },
  {
   "cell_type": "code",
   "execution_count": null,
   "metadata": {},
   "outputs": [],
   "source": []
  },
  {
   "cell_type": "code",
   "execution_count": null,
   "metadata": {},
   "outputs": [],
   "source": []
  },
  {
   "cell_type": "code",
   "execution_count": null,
   "metadata": {},
   "outputs": [],
   "source": []
  },
  {
   "cell_type": "code",
   "execution_count": null,
   "metadata": {},
   "outputs": [],
   "source": []
  },
  {
   "cell_type": "code",
   "execution_count": 148,
   "metadata": {},
   "outputs": [
    {
     "data": {
      "text/plain": [
       "0"
      ]
     },
     "execution_count": 148,
     "metadata": {},
     "output_type": "execute_result"
    }
   ],
   "source": [
    "contNegativo"
   ]
  },
  {
   "cell_type": "code",
   "execution_count": null,
   "metadata": {},
   "outputs": [],
   "source": []
  },
  {
   "cell_type": "code",
   "execution_count": null,
   "metadata": {},
   "outputs": [],
   "source": []
  },
  {
   "cell_type": "code",
   "execution_count": null,
   "metadata": {},
   "outputs": [],
   "source": []
  },
  {
   "cell_type": "code",
   "execution_count": null,
   "metadata": {},
   "outputs": [],
   "source": []
  },
  {
   "cell_type": "code",
   "execution_count": null,
   "metadata": {},
   "outputs": [],
   "source": []
  },
  {
   "cell_type": "code",
   "execution_count": null,
   "metadata": {},
   "outputs": [],
   "source": []
  }
 ],
 "metadata": {
  "kernelspec": {
   "display_name": "Python 3",
   "language": "python",
   "name": "python3"
  },
  "language_info": {
   "codemirror_mode": {
    "name": "ipython",
    "version": 3
   },
   "file_extension": ".py",
   "mimetype": "text/x-python",
   "name": "python",
   "nbconvert_exporter": "python",
   "pygments_lexer": "ipython3",
   "version": "3.6.3"
  }
 },
 "nbformat": 4,
 "nbformat_minor": 2
}
