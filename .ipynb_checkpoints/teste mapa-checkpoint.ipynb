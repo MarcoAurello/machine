{
 "cells": [
  {
   "cell_type": "code",
   "execution_count": 1,
   "metadata": {
    "collapsed": true
   },
   "outputs": [],
   "source": [
    "import numpy as np\n",
    "import pandas as pd"
   ]
  },
  {
   "cell_type": "code",
   "execution_count": 2,
   "metadata": {
    "collapsed": true
   },
   "outputs": [],
   "source": [
    "import folium"
   ]
  },
  {
   "cell_type": "code",
   "execution_count": 3,
   "metadata": {
    "collapsed": true
   },
   "outputs": [],
   "source": [
    "df = pd.read_csv('acidentes-2016.csv', delimiter=';' )"
   ]
  },
  {
   "cell_type": "code",
   "execution_count": null,
   "metadata": {
    "collapsed": true
   },
   "outputs": [],
   "source": []
  },
  {
   "cell_type": "code",
   "execution_count": 7,
   "metadata": {},
   "outputs": [
    {
     "data": {
      "text/html": [
       "<div>\n",
       "<style>\n",
       "    .dataframe thead tr:only-child th {\n",
       "        text-align: right;\n",
       "    }\n",
       "\n",
       "    .dataframe thead th {\n",
       "        text-align: left;\n",
       "    }\n",
       "\n",
       "    .dataframe tbody tr th {\n",
       "        vertical-align: top;\n",
       "    }\n",
       "</style>\n",
       "<table border=\"1\" class=\"dataframe\">\n",
       "  <thead>\n",
       "    <tr style=\"text-align: right;\">\n",
       "      <th></th>\n",
       "      <th>longitude</th>\n",
       "      <th>latitude</th>\n",
       "      <th>data de abertura</th>\n",
       "      <th>hora de abertura</th>\n",
       "      <th>bairro</th>\n",
       "      <th>endereco</th>\n",
       "      <th>complemento</th>\n",
       "      <th>tipo de ocorrencia</th>\n",
       "      <th>quantidade de vitimas</th>\n",
       "      <th>descricao</th>\n",
       "      <th>tipo</th>\n",
       "    </tr>\n",
       "  </thead>\n",
       "  <tbody>\n",
       "    <tr>\n",
       "      <th>0</th>\n",
       "      <td>-34.905705</td>\n",
       "      <td>-8.037728</td>\n",
       "      <td>01/01/2016</td>\n",
       "      <td>18:30</td>\n",
       "      <td>JAQUEIRA</td>\n",
       "      <td>AV RUI BARBOSA</td>\n",
       "      <td>EM FRENTE AO PARQUE DA JAQUEIRA</td>\n",
       "      <td>COLISÃO</td>\n",
       "      <td>1</td>\n",
       "      <td>COLISÃO ENTRE QUATRO AUTO; SEGUINTE DE UM CAPO...</td>\n",
       "      <td>Automóveis</td>\n",
       "    </tr>\n",
       "  </tbody>\n",
       "</table>\n",
       "</div>"
      ],
      "text/plain": [
       "   longitude  latitude data de abertura hora de abertura    bairro  \\\n",
       "0 -34.905705 -8.037728       01/01/2016            18:30  JAQUEIRA   \n",
       "\n",
       "         endereco                      complemento tipo de ocorrencia  \\\n",
       "0  AV RUI BARBOSA  EM FRENTE AO PARQUE DA JAQUEIRA            COLISÃO   \n",
       "\n",
       "  quantidade de vitimas                                          descricao  \\\n",
       "0                     1  COLISÃO ENTRE QUATRO AUTO; SEGUINTE DE UM CAPO...   \n",
       "\n",
       "         tipo  \n",
       "0  Automóveis  "
      ]
     },
     "execution_count": 7,
     "metadata": {},
     "output_type": "execute_result"
    }
   ],
   "source": [
    "df.head(1)"
   ]
  },
  {
   "cell_type": "code",
   "execution_count": 8,
   "metadata": {},
   "outputs": [
    {
     "data": {
      "text/plain": [
       "1231"
      ]
     },
     "execution_count": 8,
     "metadata": {},
     "output_type": "execute_result"
    }
   ],
   "source": [
    "len(df)"
   ]
  },
  {
   "cell_type": "code",
   "execution_count": 9,
   "metadata": {},
   "outputs": [
    {
     "data": {
      "text/plain": [
       "COLISÃO                   970\n",
       "ATROPELAMENTO             147\n",
       "COLISÃO COM CICLISTA       42\n",
       "CHOQUE                     34\n",
       "COLISÃOa                    8\n",
       "CAPOTAMENTO                 5\n",
       "ENGAVETAMENTO               4\n",
       "ENTRADA E SAÍDA             4\n",
       "TOMBAMENTO                  4\n",
       "ACID. DE PERCURSO           2\n",
       "COLISÃO\\t2016 13 050\\t      2\n",
       "ATROPELAMENTOa              1\n",
       "QUEDA DE ÁRVORE             1\n",
       "FISCALIZAÇÃO                1\n",
       "ATROPELAMENTO ANIMAL        1\n",
       "Name: tipo de ocorrencia, dtype: int64"
      ]
     },
     "execution_count": 9,
     "metadata": {},
     "output_type": "execute_result"
    }
   ],
   "source": [
    "df['tipo de ocorrencia'].value_counts()"
   ]
  },
  {
   "cell_type": "code",
   "execution_count": 52,
   "metadata": {
    "collapsed": true
   },
   "outputs": [],
   "source": [
    "atropelamentos = df[df['tipo de ocorrencia'] =='ATROPELAMENTO'].head(4)"
   ]
  },
  {
   "cell_type": "code",
   "execution_count": 70,
   "metadata": {},
   "outputs": [
    {
     "data": {
      "text/plain": [
       "4"
      ]
     },
     "execution_count": 70,
     "metadata": {},
     "output_type": "execute_result"
    }
   ],
   "source": [
    "len(atropelamentos)"
   ]
  },
  {
   "cell_type": "code",
   "execution_count": null,
   "metadata": {
    "collapsed": true
   },
   "outputs": [],
   "source": []
  },
  {
   "cell_type": "code",
   "execution_count": 71,
   "metadata": {},
   "outputs": [
    {
     "data": {
      "text/html": [
       "<div>\n",
       "<style>\n",
       "    .dataframe thead tr:only-child th {\n",
       "        text-align: right;\n",
       "    }\n",
       "\n",
       "    .dataframe thead th {\n",
       "        text-align: left;\n",
       "    }\n",
       "\n",
       "    .dataframe tbody tr th {\n",
       "        vertical-align: top;\n",
       "    }\n",
       "</style>\n",
       "<table border=\"1\" class=\"dataframe\">\n",
       "  <thead>\n",
       "    <tr style=\"text-align: right;\">\n",
       "      <th></th>\n",
       "      <th>longitude</th>\n",
       "      <th>latitude</th>\n",
       "      <th>data de abertura</th>\n",
       "      <th>hora de abertura</th>\n",
       "      <th>bairro</th>\n",
       "      <th>endereco</th>\n",
       "      <th>complemento</th>\n",
       "      <th>tipo de ocorrencia</th>\n",
       "      <th>quantidade de vitimas</th>\n",
       "      <th>descricao</th>\n",
       "      <th>tipo</th>\n",
       "    </tr>\n",
       "  </thead>\n",
       "  <tbody>\n",
       "    <tr>\n",
       "      <th>28</th>\n",
       "      <td>-34.911930</td>\n",
       "      <td>-8.017873</td>\n",
       "      <td>06/01/2016</td>\n",
       "      <td>18:40</td>\n",
       "      <td>CASA AMARELA</td>\n",
       "      <td>RUA ALTO JOSE BONIFACIO 149</td>\n",
       "      <td>PROX. A FEIRA DA RODINHA</td>\n",
       "      <td>ATROPELAMENTO</td>\n",
       "      <td>1</td>\n",
       "      <td>VEICULO COLIDIO COM CICLISTA; ONDE A VITIMA JA...</td>\n",
       "      <td>Ciclista</td>\n",
       "    </tr>\n",
       "    <tr>\n",
       "      <th>30</th>\n",
       "      <td>-34.881413</td>\n",
       "      <td>-8.086958</td>\n",
       "      <td>13/01/2016</td>\n",
       "      <td>13:13</td>\n",
       "      <td>BRASÍLIA TEIMOSA</td>\n",
       "      <td>RUA DAGOBERTO PIRES 136</td>\n",
       "      <td>E/F DA ASSISTENCIA TECNICA DA CALOI</td>\n",
       "      <td>ATROPELAMENTO</td>\n",
       "      <td>1</td>\n",
       "      <td>ATROPELAMENTO DE MOTO COM UM CICLISTA</td>\n",
       "      <td>Ciclista</td>\n",
       "    </tr>\n",
       "    <tr>\n",
       "      <th>158</th>\n",
       "      <td>-34.897059</td>\n",
       "      <td>-8.004059</td>\n",
       "      <td>01/01/2016</td>\n",
       "      <td>23:09</td>\n",
       "      <td>BEBERIBE</td>\n",
       "      <td>AV BEBERIBE 4510</td>\n",
       "      <td>NO POSTO DE SAUDE DE BEBERIBE</td>\n",
       "      <td>ATROPELAMENTO</td>\n",
       "      <td>1</td>\n",
       "      <td>VEICULO SOBE CALÇADA E PEGA PEDESTRE QUEBRANDO...</td>\n",
       "      <td>Pedestre</td>\n",
       "    </tr>\n",
       "    <tr>\n",
       "      <th>160</th>\n",
       "      <td>-34.879687</td>\n",
       "      <td>-8.046779</td>\n",
       "      <td>04/01/2016</td>\n",
       "      <td>17:50</td>\n",
       "      <td>SANTO AMARO</td>\n",
       "      <td>RUA TREZE DE MAIO 970</td>\n",
       "      <td>FÁCIL PNEU BORRACHARIA</td>\n",
       "      <td>ATROPELAMENTO</td>\n",
       "      <td>2</td>\n",
       "      <td>VEÍCULO SIENA ATROPELOU UMA SENHORA E UMA CRIANÇA</td>\n",
       "      <td>Pedestre</td>\n",
       "    </tr>\n",
       "  </tbody>\n",
       "</table>\n",
       "</div>"
      ],
      "text/plain": [
       "     longitude  latitude data de abertura hora de abertura            bairro  \\\n",
       "28  -34.911930 -8.017873       06/01/2016            18:40      CASA AMARELA   \n",
       "30  -34.881413 -8.086958       13/01/2016            13:13  BRASÍLIA TEIMOSA   \n",
       "158 -34.897059 -8.004059       01/01/2016            23:09          BEBERIBE   \n",
       "160 -34.879687 -8.046779       04/01/2016            17:50       SANTO AMARO   \n",
       "\n",
       "                        endereco                          complemento  \\\n",
       "28   RUA ALTO JOSE BONIFACIO 149             PROX. A FEIRA DA RODINHA   \n",
       "30       RUA DAGOBERTO PIRES 136  E/F DA ASSISTENCIA TECNICA DA CALOI   \n",
       "158             AV BEBERIBE 4510        NO POSTO DE SAUDE DE BEBERIBE   \n",
       "160        RUA TREZE DE MAIO 970               FÁCIL PNEU BORRACHARIA   \n",
       "\n",
       "    tipo de ocorrencia quantidade de vitimas  \\\n",
       "28       ATROPELAMENTO                     1   \n",
       "30       ATROPELAMENTO                     1   \n",
       "158      ATROPELAMENTO                     1   \n",
       "160      ATROPELAMENTO                     2   \n",
       "\n",
       "                                             descricao      tipo  \n",
       "28   VEICULO COLIDIO COM CICLISTA; ONDE A VITIMA JA...  Ciclista  \n",
       "30               ATROPELAMENTO DE MOTO COM UM CICLISTA  Ciclista  \n",
       "158  VEICULO SOBE CALÇADA E PEGA PEDESTRE QUEBRANDO...  Pedestre  \n",
       "160  VEÍCULO SIENA ATROPELOU UMA SENHORA E UMA CRIANÇA  Pedestre  "
      ]
     },
     "execution_count": 71,
     "metadata": {},
     "output_type": "execute_result"
    }
   ],
   "source": [
    "atropelamentos"
   ]
  },
  {
   "cell_type": "code",
   "execution_count": 73,
   "metadata": {},
   "outputs": [],
   "source": [
    "lat = atropelamentos['latitude']\n",
    "long = atropelamentos['longitude']\n",
    "mapa2 = folium.Map(location=[-8.0538900,-34.8811100], zoom_start=8)\n",
    "\n",
    "\n",
    "\n",
    "\n"
   ]
  },
  {
   "cell_type": "code",
   "execution_count": 75,
   "metadata": {},
   "outputs": [
    {
     "name": "stdout",
     "output_type": "stream",
     "text": [
      "-8.0178727  -34.9119303\n",
      "-8.0869584  -34.8814134\n",
      "-8.0040586  -34.8970588\n",
      "-8.0467794  -34.8796874\n"
     ]
    }
   ],
   "source": [
    "for la,lo in zip(lat,long):\n",
    "    folium.Marker([la, lo]).add_to(mapa2)\n",
    "    print(la,\"\",lo)"
   ]
  },
  {
   "cell_type": "code",
   "execution_count": 76,
   "metadata": {},
   "outputs": [
    {
     "data": {
      "text/html": [
       "<div style=\"width:100%;\"><div style=\"position:relative;width:100%;height:0;padding-bottom:60%;\"><iframe src=\"data:text/html;charset=utf-8;base64,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\" style=\"position:absolute;width:100%;height:100%;left:0;top:0;border:none !important;\" allowfullscreen webkitallowfullscreen mozallowfullscreen></iframe></div></div>"
      ],
      "text/plain": [
       "<folium.folium.Map at 0x1ca1ab40ba8>"
      ]
     },
     "execution_count": 76,
     "metadata": {},
     "output_type": "execute_result"
    }
   ],
   "source": [
    "mapa2"
   ]
  },
  {
   "cell_type": "code",
   "execution_count": null,
   "metadata": {
    "collapsed": true
   },
   "outputs": [],
   "source": []
  }
 ],
 "metadata": {
  "kernelspec": {
   "display_name": "Python 3",
   "language": "python",
   "name": "python3"
  },
  "language_info": {
   "codemirror_mode": {
    "name": "ipython",
    "version": 3
   },
   "file_extension": ".py",
   "mimetype": "text/x-python",
   "name": "python",
   "nbconvert_exporter": "python",
   "pygments_lexer": "ipython3",
   "version": "3.6.3"
  }
 },
 "nbformat": 4,
 "nbformat_minor": 2
}
